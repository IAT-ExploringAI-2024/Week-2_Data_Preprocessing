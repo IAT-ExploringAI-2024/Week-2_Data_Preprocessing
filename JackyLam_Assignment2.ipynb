{
  "nbformat": 4,
  "nbformat_minor": 0,
  "metadata": {
    "colab": {
      "provenance": [],
      "authorship_tag": "ABX9TyMv/Kgf5XFw3ayqBUs04t7h",
      "include_colab_link": true
    },
    "kernelspec": {
      "name": "python3",
      "display_name": "Python 3"
    },
    "language_info": {
      "name": "python"
    }
  },
  "cells": [
    {
      "cell_type": "markdown",
      "metadata": {
        "id": "view-in-github",
        "colab_type": "text"
      },
      "source": [
        "<a href=\"https://colab.research.google.com/github/jackylmw/Week-2_Data_Preprocessing/blob/Assignment2_JackyLam/JackyLam_Assignment2.ipynb\" target=\"_parent\"><img src=\"https://colab.research.google.com/assets/colab-badge.svg\" alt=\"Open In Colab\"/></a>"
      ]
    },
    {
      "cell_type": "markdown",
      "source": [
        "Import drive for subsequent applications"
      ],
      "metadata": {
        "id": "5zPfH43qQW5k"
      }
    },
    {
      "cell_type": "code",
      "execution_count": 6,
      "metadata": {
        "colab": {
          "base_uri": "https://localhost:8080/"
        },
        "id": "kQdQderjQNZh",
        "outputId": "2fb83858-bab3-4d64-f412-11abde47ce52"
      },
      "outputs": [
        {
          "output_type": "stream",
          "name": "stdout",
          "text": [
            "Drive already mounted at /content/drive; to attempt to forcibly remount, call drive.mount(\"/content/drive\", force_remount=True).\n"
          ]
        }
      ],
      "source": [
        "from google.colab import drive\n",
        "drive.mount('/content/drive')"
      ]
    },
    {
      "cell_type": "markdown",
      "source": [
        "Importing Required libraries"
      ],
      "metadata": {
        "id": "qvu5tUsMRLyd"
      }
    },
    {
      "cell_type": "code",
      "source": [
        "import pandas as pd\n",
        "import seaborn as sns\n",
        "import matplotlib.pyplot as plt"
      ],
      "metadata": {
        "id": "329w02T5RUVG"
      },
      "execution_count": 2,
      "outputs": []
    },
    {
      "cell_type": "markdown",
      "source": [
        "# Merge EmoDB and RAVDESS"
      ],
      "metadata": {
        "id": "xN7IKNZhRwsj"
      }
    },
    {
      "cell_type": "markdown",
      "source": [
        "The actor's ID in EmoDB dataset will be represented using the representation in the RAVDESS dataset"
      ],
      "metadata": {
        "id": "q2_MYg45TYDw"
      }
    },
    {
      "cell_type": "code",
      "source": [
        "actor_id = {\n",
        "    \"03\": \"25\",\n",
        "    \"08\": \"26\",\n",
        "    \"10\": \"27\",\n",
        "    \"09\": \"28\",\n",
        "    \"11\": \"29\",\n",
        "    \"13\": \"30\",\n",
        "    \"12\": \"31\",\n",
        "    \"14\": \"32\",\n",
        "    \"15\": \"33\",\n",
        "    \"16\": \"34\",\n",
        "}"
      ],
      "metadata": {
        "id": "PVMilFoZSqfL"
      },
      "execution_count": 3,
      "outputs": []
    },
    {
      "cell_type": "markdown",
      "source": [
        "Since the emotion categories in the EmoDB dataset are not exactly consistent with those in the RAVDESS dataset, I think bored in EmoDB is calm in RAVDESS. Since the EmoDB does not contain the emotion of surprised, I left it alone, which meant keeping the emotion number of surprised in the original RAVDESS dataset."
      ],
      "metadata": {
        "id": "8zeXHahyUIIH"
      }
    },
    {
      "cell_type": "code",
      "source": [
        "emotion = {\"W\": \"05\",\n",
        "           \"E\": \"07\",\n",
        "           \"A\": \"06\",\n",
        "           \"F\": \"03\",\n",
        "           \"T\": \"04\",\n",
        "           \"N\": \"01\",\n",
        "           \"L\": \"02\"}"
      ],
      "metadata": {
        "id": "oSjKwrpnVTfX"
      },
      "execution_count": 4,
      "outputs": []
    },
    {
      "cell_type": "markdown",
      "source": [
        "In the EmoDB dataset, different versions are represented by letters, while in RAVDESS, different versions are represented by numbers. To make the EmoDB consistent with RAVDESS naming, I will convert letters to numbers."
      ],
      "metadata": {
        "id": "GnACVoT4XN8i"
      }
    },
    {
      "cell_type": "code",
      "source": [
        "versions = {\"a\": \"01\", \"b\": \"02\", \"c\": \"03\", \"d\": \"04\", \"e\": \"05\", \"f\": \"06\"}"
      ],
      "metadata": {
        "id": "g0XbUZW2XSNk"
      },
      "execution_count": 5,
      "outputs": []
    },
    {
      "cell_type": "code",
      "source": [
        "import os\n",
        "\n",
        "os.chdir(os.path.dirname(\"/content/drive/MyDrive/IAT481-Assignment2/wav\"))\n",
        "\n",
        "if not os.path.exists(\"./RAVDESS\"):\n",
        "    os.mkdir(\"./RAVDESS\")\n",
        "\n",
        "files = os.listdir(\"./wav\")\n",
        "\n",
        "for f in files:\n",
        "    new_f = (\n",
        "        \"03-01-\"\n",
        "        + emotion[f[5]]\n",
        "        + \"-01-\"\n",
        "        + f[2:5]\n",
        "        + \"-\"\n",
        "        + versions[f[6]]\n",
        "        + \"-\"\n",
        "        + actor_id[f[0:2]]\n",
        "        + \".wav\"\n",
        "    )\n",
        "\n",
        "    if not os.path.exists(\"./RAVDESS/Actor_\" + actor_id[f[0:2]]):\n",
        "        os.mkdir(\"./RAVDESS/Actor_\" + actor_id[f[0:2]])\n",
        "\n",
        "\n",
        "    os.rename(\"./wav/\" + f, \"./RAVDESS/Actor_\" + actor_id[f[0:2]] + \"/\" + new_f)"
      ],
      "metadata": {
        "id": "C_o8oewLXeIQ"
      },
      "execution_count": 8,
      "outputs": []
    }
  ]
}